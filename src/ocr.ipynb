{
 "cells": [
  {
   "cell_type": "code",
   "execution_count": 1,
   "metadata": {
    "collapsed": true
   },
   "outputs": [],
   "source": [
    "import os\n",
    "import numpy as np\n",
    "%matplotlib inline\n",
    "import matplotlib.pyplot as plt\n",
    "import matplotlib.image as mpimg\n",
    "import skimage\n",
    "import pytesseract\n",
    "import cv2\n",
    "from PIL import Image, ImageEnhance, ImageFilter"
   ]
  },
  {
   "cell_type": "code",
   "execution_count": 23,
   "metadata": {},
   "outputs": [
    {
     "data": {
      "image/png": "[encoded data removed]",
      "text/plain": [
       "<matplotlib.figure.Figure at 0x7fb64e649850>"
      ]
     },
     "metadata": {},
     "output_type": "display_data"
    }
   ],
   "source": [
    "## Load original image\n",
    "image_path = os.path.join(os.environ.get(\"DATA_DIR\"),'3.png')\n",
    "# read the image file in a numpy array\n",
    "img = mpimg.imread(image_path)\n",
    "imgplot = plt.imshow(img)\n"
   ]
  },
  {
   "cell_type": "code",
   "execution_count": 24,
   "metadata": {},
   "outputs": [
    {
     "name": "stdout",
     "output_type": "stream",
     "text": [
      "\n"
     ]
    },
    {
     "data": {
      "image/png": "[encoded data removed]",
      "text/plain": [
       "<matplotlib.figure.Figure at 0x7fb64e8888d0>"
      ]
     },
     "metadata": {},
     "output_type": "display_data"
    }
   ],
   "source": [
    "# Experiment 1\n",
    "im = Image.open(image_path) # the second one\n",
    "im = im.filter(ImageFilter.MedianFilter())\n",
    "enhancer = ImageEnhance.Contrast(im)\n",
    "im = enhancer.enhance(2)\n",
    "im = im.convert('1')\n",
    "im.save(os.environ.get(\"SHARED_OUTPUT_DIR\")+'temp1.png')\n",
    "text = pytesseract.image_to_string(Image.open(os.environ.get(\"SHARED_OUTPUT_DIR\")+'temp1.png'))\n",
    "print(text)\n",
    "temp_image_path = os.path.join(os.environ.get(\"SHARED_OUTPUT_DIR\")+'temp1.png')\n",
    "# read the image file in a numpy array\n",
    "img = mpimg.imread(temp_image_path)\n",
    "imgplot = plt.imshow(img)"
   ]
  },
  {
   "cell_type": "code",
   "execution_count": 25,
   "metadata": {},
   "outputs": [
    {
     "name": "stdout",
     "output_type": "stream",
     "text": [
      "(54, 38, 3)\n",
      "L.'J\n"
     ]
    },
    {
     "data": {
      "image/png": "[encoded data removed]",
      "text/plain": [
       "<matplotlib.figure.Figure at 0x7fb64e5a2310>"
      ]
     },
     "metadata": {},
     "output_type": "display_data"
    }
   ],
   "source": [
    "# Experiment 2\n",
    "def _thresh_words(img, white_thresh=230):\n",
    "    if img is None:\n",
    "        return\n",
    "    print img.shape\n",
    "    for i in range(img.shape[0]):\n",
    "        for j in range(img.shape[1]):\n",
    "            if all([elem >= white_thresh for elem in img[i][j]]):\n",
    "                img[i][j] = (255, 255, 255)\n",
    "            else:\n",
    "                img[i][j] = (0, 0, 0)\n",
    "    cv2.imwrite(os.environ.get(\"SHARED_OUTPUT_DIR\")+'ex2_1.png', img)\n",
    "\n",
    "def _exec_tesseract(temp_path):\n",
    "     cmd = 'env TESSDATA_PREFIX=./ tesseract -l joh %s %s > /dev/null' % (self._tmp_image_fname, self._tmp_txt_base)\n",
    "     os.system(cmd)\n",
    "    \n",
    "img = cv2.imread(image_path)\n",
    "image_threshold = _thresh_words(img)\n",
    "temp_image_path = os.path.join(os.environ.get(\"SHARED_OUTPUT_DIR\")+'ex2_1.png')\n",
    "# read the image file in a numpy array\n",
    "img1 = mpimg.imread(temp_image_path)\n",
    "plt.imshow(img1)\n",
    "text = pytesseract.image_to_string(Image.open(temp_image_path))\n",
    "print text"
   ]
  },
  {
   "cell_type": "code",
   "execution_count": 14,
   "metadata": {
    "collapsed": true
   },
   "outputs": [],
   "source": [
    "#http://stackoverflow.com/questions/18813300/finding-the-coordinates-of-maxima-in-an-image\n",
    "import os\n",
    "from PIL import *\n",
    "from PIL import Image\n",
    "\n",
    "im111 = Image.open(os.environ.get(\"DATA_DIR\")+'/3.png')"
   ]
  },
  {
   "cell_type": "code",
   "execution_count": 27,
   "metadata": {
    "collapsed": true
   },
   "outputs": [],
   "source": [
    "import numpy as np\n",
    "from skimage import io\n",
    "from skimage import img_as_float\n",
    "from scipy.ndimage import gaussian_filter\n",
    "from skimage.morphology import reconstruction\n",
    "import pytesseract"
   ]
  },
  {
   "cell_type": "code",
   "execution_count": 28,
   "metadata": {},
   "outputs": [
    {
     "name": "stdout",
     "output_type": "stream",
     "text": [
      "<class 'PIL.Image.Image'>\n",
      "\n"
     ]
    },
    {
     "data": {
      "image/png": "[encoded data removed]",
      "text/plain": [
       "<matplotlib.figure.Figure at 0x7fb6700d2690>"
      ]
     },
     "metadata": {},
     "output_type": "display_data"
    }
   ],
   "source": [
    "im = np.array(image * 255, dtype = np.uint8)\n",
    "a = np.asarray(im)\n",
    "img = Image.fromarray(a)\n",
    "\n",
    "img.show()\n",
    "\n",
    "print type(img)\n",
    "img.save(os.environ.get(\"SHARED_OUTPUT_DIR\")+'RegionalMaximaPIL.jpg')\n",
    "\n",
    "img1 = mpimg.imread(os.environ.get(\"SHARED_OUTPUT_DIR\")+'RegionalMaximaPIL.jpg')\n",
    "plt.imshow(img1)\n",
    "text = pytesseract.image_to_string(Image.open(os.environ.get(\"SHARED_OUTPUT_DIR\")+'RegionalMaximaPIL.jpg'))\n",
    "print text"
   ]
  },
  {
   "cell_type": "code",
   "execution_count": 53,
   "metadata": {
    "collapsed": true
   },
   "outputs": [],
   "source": [
    "# Working over image for number of kills \n",
    "import numpy as np\n",
    "import matplotlib.pyplot as plt\n",
    "from PIL import Image\n",
    "\n",
    "from scipy.ndimage import gaussian_filter\n",
    "from skimage import data\n",
    "from skimage import img_as_float\n",
    "from skimage.morphology import reconstruction\n",
    "\n",
    "# Convert to float: Important for subtraction later which won't work with uint8\n",
    "image = Image.open(os.environ.get(\"DATA_DIR\")+'/3.png')\n",
    "#image = Image.open(os.environ.get(\"DATA_DIR\")+'/hard.png')\n",
    "# image = Image.open(os.environ.get(\"DATA_DIR\")+'/1.png')\n",
    "basewidth = 100\n",
    "wpercent = (basewidth / float(image.size[0]))\n",
    "hsize = int((float(im111.size[1]) * float(wpercent)))\n",
    "image_resized = im111.resize((basewidth, hsize), Image.ANTIALIAS)\n",
    "image = gaussian_filter(image, 0.4)\n",
    "\n",
    "seed = np.copy(image)\n",
    "seed[1:-1, 1:-1] = image.min()\n",
    "mask = image\n",
    "\n",
    "dilated = reconstruction(seed, mask, method='dilation')\n"
   ]
  },
  {
   "cell_type": "code",
   "execution_count": 54,
   "metadata": {
    "scrolled": false
   },
   "outputs": [
    {
     "name": "stdout",
     "output_type": "stream",
     "text": [
      "\n"
     ]
    },
    {
     "data": {
      "image/png": "[encoded data removed]",
      "text/plain": [
       "<matplotlib.figure.Figure at 0x7fb62f2f8810>"
      ]
     },
     "metadata": {},
     "output_type": "display_data"
    }
   ],
   "source": [
    "fig, (ax0, ax1, ax2) = plt.subplots(nrows=1,\n",
    "                                    ncols=3,\n",
    "                                    figsize=(8, 2.5),\n",
    "                                    sharex=True,\n",
    "                                    sharey=True)\n",
    "\n",
    "ax0.imshow(image, cmap='gray')\n",
    "ax0.set_title('original image')\n",
    "ax0.axis('off')\n",
    "ax0.set_adjustable('box-forced')\n",
    "\n",
    "ax1.imshow(dilated, vmin=image.min(), vmax=image.max(), cmap='gray')\n",
    "ax1.set_title('dilated')\n",
    "ax1.axis('off')\n",
    "ax1.set_adjustable('box-forced')\n",
    "\n",
    "img_mid = image - dilated\n",
    "ax2.imshow(img_mid, cmap='gray')\n",
    "ax2.set_title('image - dilated')\n",
    "ax2.axis('off')\n",
    "ax2.set_adjustable('box-forced')\n",
    "\n",
    "fig.tight_layout()\n",
    "\n",
    "img_sub_dilated = img_mid\n",
    "image_1 = Image.fromarray(np.uint8(img_sub_dilated))\n",
    "text = pytesseract.image_to_string(image_1)\n",
    "print text"
   ]
  },
  {
   "cell_type": "code",
   "execution_count": 42,
   "metadata": {},
   "outputs": [
    {
     "name": "stderr",
     "output_type": "stream",
     "text": [
      "Using TensorFlow backend.\n",
      "/usr/local/lib/python2.7/dist-packages/pandas/core/computation/__init__.py:18: UserWarning: The installed version of numexpr 2.2.2 is not supported in pandas and will be not be used\n",
      "The minimum supported version is 2.4.6\n",
      "\n",
      "  ver=ver, min_ver=_MIN_NUMEXPR_VERSION), UserWarning)\n"
     ]
    }
   ],
   "source": [
    "import numpy\n",
    "from keras.datasets import mnist\n",
    "from keras.models import Sequential\n",
    "from keras.layers import Dense\n",
    "from keras.layers import Dropout\n",
    "from keras.layers import Flatten\n",
    "from keras.layers.convolutional import Conv2D\n",
    "from keras.layers.convolutional import MaxPooling2D\n",
    "from keras.utils import np_utils\n",
    "from keras import backend as K\n",
    "K.set_image_dim_ordering('th')"
   ]
  },
  {
   "cell_type": "code",
   "execution_count": 43,
   "metadata": {
    "collapsed": true
   },
   "outputs": [],
   "source": [
    "# fix random seed for reproducibility\n",
    "seed = 7\n",
    "numpy.random.seed(seed)"
   ]
  },
  {
   "cell_type": "code",
   "execution_count": 44,
   "metadata": {},
   "outputs": [
    {
     "name": "stdout",
     "output_type": "stream",
     "text": [
      "Downloading data from https://s3.amazonaws.com/img-datasets/mnist.npz\n"
     ]
    }
   ],
   "source": [
    "# load data\n",
    "(X_train, y_train), (X_test, y_test) = mnist.load_data()\n",
    "# reshape to be [samples][pixels][width][height]\n",
    "X_train = X_train.reshape(X_train.shape[0], 1, 28, 28).astype('float32')\n",
    "X_test = X_test.reshape(X_test.shape[0], 1, 28, 28).astype('float32')"
   ]
  },
  {
   "cell_type": "code",
   "execution_count": 45,
   "metadata": {
    "collapsed": true
   },
   "outputs": [],
   "source": [
    "# normalize inputs from 0-255 to 0-1\n",
    "X_train = X_train / 255\n",
    "X_test = X_test / 255\n",
    "# one hot encode outputs\n",
    "y_train = np_utils.to_categorical(y_train)\n",
    "y_test = np_utils.to_categorical(y_test)\n",
    "num_classes = y_test.shape[1]"
   ]
  },
  {
   "cell_type": "code",
   "execution_count": 46,
   "metadata": {
    "collapsed": true
   },
   "outputs": [],
   "source": [
    "def baseline_model():\n",
    "    # create model\n",
    "    model = Sequential()\n",
    "    model.add(Conv2D(32, (5, 5), input_shape=(1, 28, 28), activation='relu'))\n",
    "    model.add(MaxPooling2D(pool_size=(2, 2)))\n",
    "    model.add(Dropout(0.2))\n",
    "    model.add(Flatten())\n",
    "    model.add(Dense(128, activation='relu'))\n",
    "    model.add(Dense(num_classes, activation='softmax'))\n",
    "    # Compile model\n",
    "    model.compile(loss='categorical_crossentropy', optimizer='adam', metrics=['accuracy'])\n",
    "    return model"
   ]
  },
  {
   "cell_type": "code",
   "execution_count": 47,
   "metadata": {},
   "outputs": [
    {
     "name": "stdout",
     "output_type": "stream",
     "text": [
      "Train on 60000 samples, validate on 10000 samples\n",
      "Epoch 1/10\n",
      "210s - loss: 0.2311 - acc: 0.9345 - val_loss: 0.0829 - val_acc: 0.9740\n",
      "Epoch 2/10\n",
      "210s - loss: 0.0738 - acc: 0.9780 - val_loss: 0.0463 - val_acc: 0.9840\n",
      "Epoch 3/10\n",
      "211s - loss: 0.0534 - acc: 0.9838 - val_loss: 0.0438 - val_acc: 0.9855\n",
      "Epoch 4/10\n",
      "211s - loss: 0.0404 - acc: 0.9879 - val_loss: 0.0403 - val_acc: 0.9864\n",
      "Epoch 5/10\n",
      "211s - loss: 0.0336 - acc: 0.9894 - val_loss: 0.0341 - val_acc: 0.9882\n",
      "Epoch 6/10\n",
      "211s - loss: 0.0276 - acc: 0.9914 - val_loss: 0.0312 - val_acc: 0.9895\n",
      "Epoch 7/10\n",
      "211s - loss: 0.0232 - acc: 0.9928 - val_loss: 0.0338 - val_acc: 0.9882\n",
      "Epoch 8/10\n",
      "211s - loss: 0.0201 - acc: 0.9936 - val_loss: 0.0316 - val_acc: 0.9890\n",
      "Epoch 9/10\n",
      "211s - loss: 0.0165 - acc: 0.9947 - val_loss: 0.0294 - val_acc: 0.9904\n",
      "Epoch 10/10\n",
      "211s - loss: 0.0144 - acc: 0.9956 - val_loss: 0.0302 - val_acc: 0.9904\n",
      "Baseline Error: 0.96%\n"
     ]
    }
   ],
   "source": [
    "# build the model\n",
    "model = baseline_model()\n",
    "# Fit the model\n",
    "model.fit(X_train, y_train, validation_data=(X_test, y_test), epochs=10, batch_size=200, verbose=2)\n",
    "# Final evaluation of the model\n",
    "scores = model.evaluate(X_test, y_test, verbose=0)\n",
    "print(\"Baseline Error: %.2f%%\" % (100-scores[1]*100))"
   ]
  },
  {
   "cell_type": "code",
   "execution_count": 48,
   "metadata": {},
   "outputs": [
    {
     "name": "stdout",
     "output_type": "stream",
     "text": [
      "<type 'numpy.ndarray'>\n",
      "(10000, 1, 28, 28)\n",
      "(1, 1, 28, 28)\n",
      "2\n"
     ]
    },
    {
     "ename": "AttributeError",
     "evalue": "_Environ instance has no __call__ method",
     "output_type": "error",
     "traceback": [
      "\u001b[0;31m\u001b[0m",
      "\u001b[0;31mAttributeError\u001b[0mTraceback (most recent call last)",
      "\u001b[0;32m<ipython-input-48-51427c81234c>\u001b[0m in \u001b[0;36m<module>\u001b[0;34m()\u001b[0m\n\u001b[1;32m     10\u001b[0m \u001b[0;31m# serialize model to JSON\u001b[0m\u001b[0;34m\u001b[0m\u001b[0;34m\u001b[0m\u001b[0m\n\u001b[1;32m     11\u001b[0m \u001b[0mmodel_json\u001b[0m \u001b[0;34m=\u001b[0m \u001b[0mmodel\u001b[0m\u001b[0;34m.\u001b[0m\u001b[0mto_json\u001b[0m\u001b[0;34m(\u001b[0m\u001b[0;34m)\u001b[0m\u001b[0;34m\u001b[0m\u001b[0m\n\u001b[0;32m---> 12\u001b[0;31m \u001b[0;32mwith\u001b[0m \u001b[0mopen\u001b[0m\u001b[0;34m(\u001b[0m\u001b[0mos\u001b[0m\u001b[0;34m.\u001b[0m\u001b[0menviron\u001b[0m\u001b[0;34m(\u001b[0m\u001b[0;34m\"SHARED_OUTPUT_DIR\"\u001b[0m\u001b[0;34m)\u001b[0m\u001b[0;34m+\u001b[0m\u001b[0;34m\"/model.json\"\u001b[0m\u001b[0;34m,\u001b[0m \u001b[0;34m\"w\"\u001b[0m\u001b[0;34m)\u001b[0m \u001b[0;32mas\u001b[0m \u001b[0mjson_file\u001b[0m\u001b[0;34m:\u001b[0m\u001b[0;34m\u001b[0m\u001b[0m\n\u001b[0m\u001b[1;32m     13\u001b[0m     \u001b[0mjson_file\u001b[0m\u001b[0;34m.\u001b[0m\u001b[0mwrite\u001b[0m\u001b[0;34m(\u001b[0m\u001b[0mmodel_json\u001b[0m\u001b[0;34m)\u001b[0m\u001b[0;34m\u001b[0m\u001b[0m\n\u001b[1;32m     14\u001b[0m \u001b[0;31m# serialize weights to HDF5\u001b[0m\u001b[0;34m\u001b[0m\u001b[0;34m\u001b[0m\u001b[0m\n",
      "\u001b[0;31mAttributeError\u001b[0m: _Environ instance has no __call__ method"
     ]
    }
   ],
   "source": [
    "print type(X_test)\n",
    "print X_test.shape\n",
    "X_ex = X_test[1:2,:,:,:]\n",
    "print X_ex.shape\n",
    "\n",
    "predictions = model.predict(X_ex)\n",
    "print np.argmax(predictions[0])\n",
    "\n",
    "\n",
    "# serialize model to JSON\n",
    "model_json = model.to_json()\n",
    "with open(os.environ.get(\"SHARED_OUTPUT_DIR\")+\"/model.json\", \"w\") as json_file:\n",
    "    json_file.write(model_json)\n",
    "# serialize weights to HDF5\n",
    "model.save_weights(os.environ.get(\"SHARED_OUTPUT_DIR\")+\"/model.h5\")\n",
    "print(\"Saved model to disk\")\n",
    "\n",
    "# later...\n",
    "# load json and create model\n",
    "json_file = open(os.environ.get(\"SHARED_OUTPUT_DIR\")+'/model.json', 'r')\n",
    "loaded_model_json = json_file.read()\n",
    "json_file.close()\n",
    "loaded_model = model_from_json(loaded_model_json)\n",
    "# load weights into new model\n",
    "loaded_model.load_weights(os.environ(\"SHARED_OUTPUT_DIR\")+\"/model.h5\")\n",
    "print(\"Loaded model from disk\")"
   ]
  },
  {
   "cell_type": "code",
   "execution_count": 1,
   "metadata": {
    "scrolled": true
   },
   "outputs": [
    {
     "data": {
      "image/png": "[encoded data removed]",
      "text/plain": [
       "<matplotlib.figure.Figure at 0x7f0975c10a90>"
      ]
     },
     "metadata": {},
     "output_type": "display_data"
    }
   ],
   "source": [
    "import cv2\n",
    "import os\n",
    "import numpy as np\n",
    "from matplotlib import pyplot as plt\n",
    "from scipy.ndimage import gaussian_filter\n",
    "image_path = os.environ.get(\"DATA_DIR\")+'/3.png'\n",
    "img = cv2.imread(image_path,0)\n",
    "# global thresholding\n",
    "ret1,th1 = cv2.threshold(img,127,255,cv2.THRESH_BINARY)\n",
    "# Otsu's thresholding\n",
    "ret2,th2 = cv2.threshold(img,0,255,cv2.THRESH_BINARY+cv2.THRESH_OTSU)\n",
    "# Otsu's thresholding after Gaussian filtering\n",
    "blur = cv2.GaussianBlur(img,(5,5),0)\n",
    "ret3,th3 = cv2.threshold(blur,0,255,cv2.THRESH_BINARY+cv2.THRESH_OTSU)\n",
    "# plot all the images and their histograms\n",
    "images = [img, 0, th1,\n",
    "          img, 0, th2,\n",
    "          blur, 0, th3]\n",
    "titles = ['Original Noisy Image','Histogram','Global Thresholding (v=127)',\n",
    "          'Original Noisy Image','Histogram',\"Otsu's Thresholding\",\n",
    "          'Gaussian filtered Image','Histogram',\"Otsu's Thresholding\"]\n",
    "for i in xrange(3):\n",
    "    plt.subplot(3,3,i*3+1),plt.imshow(images[i*3],'gray')\n",
    "    plt.title(titles[i*3]), plt.xticks([]), plt.yticks([])\n",
    "    plt.subplot(3,3,i*3+2),plt.hist(images[i*3].ravel(),256)\n",
    "    plt.title(titles[i*3+1]), plt.xticks([]), plt.yticks([])\n",
    "    plt.subplot(3,3,i*3+3),plt.imshow(images[i*3+2],'gray')\n",
    "    plt.title(titles[i*3+2]), plt.xticks([]), plt.yticks([])\n",
    "plt.show()"
   ]
  },
  {
   "cell_type": "code",
   "execution_count": 2,
   "metadata": {
    "collapsed": true
   },
   "outputs": [],
   "source": [
    "y = cv2.resize(th3,(28,28), interpolation = cv2.INTER_CUBIC)\n",
    "y = np.expand_dims(y, axis=0)\n",
    "y = np.expand_dims(y, axis=0)"
   ]
  },
  {
   "cell_type": "code",
   "execution_count": 3,
   "metadata": {},
   "outputs": [
    {
     "name": "stderr",
     "output_type": "stream",
     "text": [
      "Using TensorFlow backend.\n",
      "/usr/local/lib/python2.7/dist-packages/pandas/core/computation/__init__.py:18: UserWarning: The installed version of numexpr 2.2.2 is not supported in pandas and will be not be used\n",
      "The minimum supported version is 2.4.6\n",
      "\n",
      "  ver=ver, min_ver=_MIN_NUMEXPR_VERSION), UserWarning)\n"
     ]
    },
    {
     "name": "stdout",
     "output_type": "stream",
     "text": [
      "Loaded model from disk\n"
     ]
    }
   ],
   "source": [
    "from keras.models import model_from_json\n",
    "# later...\n",
    "# load json and create model\n",
    "json_file = open(os.environ.get(\"SHARED_OUTPUT_DIR\")+'/model.json', 'r')\n",
    "model_json = json_file.read()\n",
    "json_file.close()\n",
    "model = model_from_json(model_json)\n",
    "# load weights into new model\n",
    "model.load_weights(os.environ.get(\"SHARED_OUTPUT_DIR\")+\"/model.h5\")\n",
    "print(\"Loaded model from disk\")"
   ]
  },
  {
   "cell_type": "code",
   "execution_count": 4,
   "metadata": {},
   "outputs": [
    {
     "name": "stdout",
     "output_type": "stream",
     "text": [
      "3\n"
     ]
    }
   ],
   "source": [
    "test_example = th3\n",
    "predictions = model.predict(y)\n",
    "print np.argmax(predictions[0])"
   ]
  },
  {
   "cell_type": "code",
   "execution_count": 5,
   "metadata": {},
   "outputs": [
    {
     "data": {
      "image/png": "[encoded data removed]",
      "text/plain": [
       "<matplotlib.figure.Figure at 0x7f09a4d89c50>"
      ]
     },
     "metadata": {},
     "output_type": "display_data"
    }
   ],
   "source": [
    "import cv2\n",
    "import numpy as np\n",
    "from matplotlib import pyplot as plt\n",
    "from scipy.ndimage import gaussian_filter\n",
    "image_path = os.environ.get(\"DATA_DIR\")+'/63.png'\n",
    "img = cv2.imread(image_path,0)\n",
    "img = cv2.resize(img,(80,80), interpolation = cv2.INTER_CUBIC)\n",
    "# global thresholding\n",
    "ret1,th1 = cv2.threshold(img,127,255,cv2.THRESH_BINARY)\n",
    "# Otsu's thresholding\n",
    "ret2,th2 = cv2.threshold(img,0,255,cv2.THRESH_BINARY+cv2.THRESH_OTSU)\n",
    "# Otsu's thresholding after Gaussian filtering\n",
    "blur = cv2.GaussianBlur(img,(5,5),0)\n",
    "ret3,th3 = cv2.threshold(blur,0,255,cv2.THRESH_BINARY+cv2.THRESH_OTSU)\n",
    "# plot all the images and their histograms\n",
    "images = [img, 0, th1,\n",
    "          img, 0, th2,\n",
    "          blur, 0, th3]\n",
    "titles = ['Original Noisy Image','Histogram','Global Thresholding (v=127)',\n",
    "          'Original Noisy Image','Histogram',\"Otsu's Thresholding\",\n",
    "          'Gaussian filtered Image','Histogram',\"Otsu's Thresholding\"]\n",
    "for i in xrange(3):\n",
    "    plt.subplot(3,3,i*3+1),plt.imshow(images[i*3],'gray')\n",
    "    plt.title(titles[i*3]), plt.xticks([]), plt.yticks([])\n",
    "    plt.subplot(3,3,i*3+2),plt.hist(images[i*3].ravel(),256)\n",
    "    plt.title(titles[i*3+1]), plt.xticks([]), plt.yticks([])\n",
    "    plt.subplot(3,3,i*3+3),plt.imshow(images[i*3+2],'gray')\n",
    "    plt.title(titles[i*3+2]), plt.xticks([]), plt.yticks([])\n",
    "plt.show()"
   ]
  },
  {
   "cell_type": "code",
   "execution_count": 6,
   "metadata": {},
   "outputs": [
    {
     "name": "stdout",
     "output_type": "stream",
     "text": [
      "(80, 80)\n",
      "80 80\n",
      "(80, 45)\n",
      "(80, 40)\n"
     ]
    },
    {
     "data": {
      "image/png": "[encoded data removed]",
      "text/plain": [
       "<matplotlib.figure.Figure at 0x7f09670a40d0>"
      ]
     },
     "metadata": {},
     "output_type": "display_data"
    },
    {
     "data": {
      "image/png": "[encoded data removed]",
      "text/plain": [
       "<matplotlib.figure.Figure at 0x7f0952161410>"
      ]
     },
     "metadata": {},
     "output_type": "display_data"
    }
   ],
   "source": [
    "print th3.shape\n",
    "x, y = th3.shape[0],th3.shape[1]\n",
    "print x, y\n",
    "th3_left = th3[:,:x/2+5]\n",
    "print th3_left.shape\n",
    "th3_right = th3[:,x/2:]\n",
    "print th3_right.shape\n",
    "plt.imshow(th3_left,'gray')\n",
    "plt.show()\n",
    "y_left = cv2.resize(th3_left,(28,28), interpolation = cv2.INTER_CUBIC)\n",
    "y_left = np.expand_dims(y_left, axis=0)\n",
    "y_left = np.expand_dims(y_left, axis=0)\n",
    "\n",
    "plt.imshow(th3_right,'gray')\n",
    "plt.show()\n",
    "y_right = cv2.resize(th3_right,(28,28), interpolation = cv2.INTER_CUBIC)\n",
    "y_right = np.expand_dims(y_right, axis=0)\n",
    "y_right = np.expand_dims(y_right, axis=0)"
   ]
  },
  {
   "cell_type": "code",
   "execution_count": 7,
   "metadata": {},
   "outputs": [
    {
     "name": "stdout",
     "output_type": "stream",
     "text": [
      "Loaded model from disk\n"
     ]
    }
   ],
   "source": [
    "import numpy\n",
    "import os\n",
    "from keras.datasets import mnist\n",
    "from keras.models import Sequential\n",
    "from keras.layers import Dense\n",
    "from keras.layers import Dropout\n",
    "from keras.layers import Flatten\n",
    "from keras.layers.convolutional import Conv2D\n",
    "from keras.layers.convolutional import MaxPooling2D\n",
    "from keras.models import model_from_json\n",
    "\n",
    "# later...\n",
    "# load json and create model\n",
    "json_file = open(os.environ.get(\"SHARED_OUTPUT_DIR\")+'/model.json', 'r')\n",
    "model_json = json_file.read()\n",
    "json_file.close()\n",
    "model = model_from_json(model_json)\n",
    "# load weights into new model\n",
    "model.load_weights(os.environ.get(\"SHARED_OUTPUT_DIR\")+\"/model.h5\")\n",
    "print(\"Loaded model from disk\")"
   ]
  },
  {
   "cell_type": "code",
   "execution_count": 8,
   "metadata": {},
   "outputs": [
    {
     "name": "stdout",
     "output_type": "stream",
     "text": [
      "6\n",
      "1.0\n"
     ]
    }
   ],
   "source": [
    "predictions = model.predict(y_left)\n",
    "print np.argmax(predictions[0])\n",
    "print np.max(predictions[0])"
   ]
  },
  {
   "cell_type": "code",
   "execution_count": 9,
   "metadata": {},
   "outputs": [
    {
     "name": "stdout",
     "output_type": "stream",
     "text": [
      "3\n",
      "1.0\n"
     ]
    }
   ],
   "source": [
    "predictions = model.predict(y_right)\n",
    "print np.argmax(predictions[0])\n",
    "print np.max(predictions[0])"
   ]
  },
  {
   "cell_type": "code",
   "execution_count": 62,
   "metadata": {},
   "outputs": [
    {
     "name": "stdout",
     "output_type": "stream",
     "text": [
      "Loaded model from disk\n"
     ]
    }
   ],
   "source": [
    "from keras.datasets import mnist\n",
    "from keras.models import Sequential\n",
    "from keras.layers import Dense\n",
    "from keras.layers import Dropout\n",
    "from keras.layers import Flatten\n",
    "from keras.layers.convolutional import Conv2D\n",
    "from keras.layers.convolutional import MaxPooling2D\n",
    "from keras.models import model_from_json\n",
    "\n",
    "# later...\n",
    "# load json and create model\n",
    "json_file = open(os.environ.get(\"SHARED_OUTPUT_DIR\")+'/model.json', 'r')\n",
    "model_json = json_file.read()\n",
    "json_file.close()\n",
    "model = model_from_json(model_json)\n",
    "# load weights into new model\n",
    "model.load_weights(os.environ.get(\"SHARED_OUTPUT_DIR\")+\"/model.h5\")\n",
    "print(\"Loaded model from disk\")\n",
    "\n",
    "def predict_digits(image):\n",
    "    image = cv2.resize(image,(28,28), interpolation = cv2.INTER_CUBIC)\n",
    "    image = np.expand_dims(image, axis=0)\n",
    "    image = np.expand_dims(image, axis=0)\n",
    "    predictions = model.predict(image)\n",
    "    pred_digit = np.argmax(predictions[0])\n",
    "    prob_pred_digit = np.max(predictions[0])\n",
    "#     print prob_pred_digit\n",
    "    return pred_digit"
   ]
  },
  {
   "cell_type": "code",
   "execution_count": 63,
   "metadata": {},
   "outputs": [
    {
     "name": "stdout",
     "output_type": "stream",
     "text": [
      "<type 'numpy.ndarray'>\n",
      "<type 'numpy.ndarray'>\n",
      "63\n"
     ]
    }
   ],
   "source": [
    "import cv2\n",
    "import os\n",
    "import numpy as np\n",
    "import copy\n",
    "from matplotlib import pyplot as plt\n",
    "from scipy.ndimage import gaussian_filter\n",
    "image_path = os.environ.get(\"DATA_DIR\")+'/63.png'\n",
    "img = cv2.imread(image_path,0)\n",
    "print type(img)\n",
    "img = cv2.resize(img,(80,80), interpolation = cv2.INTER_CUBIC)\n",
    "print type(img)\n",
    "blur = cv2.GaussianBlur(img,(5,5),0)\n",
    "ret,th = cv2.threshold(blur,0,255,cv2.THRESH_BINARY+cv2.THRESH_OTSU)\n",
    "\n",
    "##################      Now finding Contours         ###################\n",
    "\n",
    "contours,hierarchy = cv2.findContours(copy.copy(th),cv2.RETR_LIST,cv2.CHAIN_APPROX_SIMPLE) \n",
    "\n",
    "pred_digits = []\n",
    "x_coords = []\n",
    "roi_images = []\n",
    "buff = 3\n",
    "for cnt in contours:\n",
    "    if cv2.contourArea(cnt)>40:\n",
    "        [x,y,w,h] = cv2.boundingRect(cnt)\n",
    "        if  h>30:\n",
    "            cv2.rectangle(th3,(x,y),(x+w,y+h),(0,0,255),1)\n",
    "            try:\n",
    "                roi = th[y-buff:y+h+buff,x-buff:x+w+buff]        \n",
    "            except:\n",
    "                roi = th[y:y+h,x:x+w]            \n",
    "            roi_images.append(roi)\n",
    "            x_coords.append(x)\n",
    "\n",
    "sorted_roi_images = [image for (x_coord,image) in sorted(zip(x_coords,roi_images))]\n",
    "for image in sorted_roi_images:\n",
    "    try:\n",
    "        pred_digit = predict_digits(image)\n",
    "        pred_digits.append(str(pred_digit))\n",
    "    except:\n",
    "        pass\n",
    "\n",
    "print ''.join(pred_digits)"
   ]
  },
  {
   "cell_type": "code",
   "execution_count": 32,
   "metadata": {},
   "outputs": [
    {
     "name": "stdout",
     "output_type": "stream",
     "text": [
      "\n"
     ]
    }
   ],
   "source": [
    "import cv2\n",
    "import os\n",
    "import numpy as np\n",
    "import copy\n",
    "from matplotlib import pyplot as plt\n",
    "from scipy.ndimage import gaussian_filter\n",
    "from skimage import img_as_float\n",
    "from skimage.morphology import reconstruction\n",
    "from PIL import Image\n",
    "\n",
    "def extract_text(image, ratio=[0.697,0.744,0.468,0.534]):\n",
    "    #ratio=[0.697,0.746,0.468,0.534]\n",
    "    image = np.asarray(image)\n",
    "    y1 = int(image.shape[0] * ratio[0])\n",
    "    y2 = int(image.shape[0] * ratio[1])\n",
    "    x1 = int(image.shape[1] * ratio[2])\n",
    "    x2 = int(image.shape[1] * ratio[3])\n",
    "    img_first = image[y1:y2, x1:x2]\n",
    "    img = cv2.cvtColor(img_first, cv2.COLOR_BGR2GRAY)\n",
    "    img = cv2.resize(img,(70,70), interpolation = cv2.INTER_CUBIC)\n",
    "    blur = cv2.GaussianBlur(img,(5,5),0)\n",
    "    ret,th = cv2.threshold(blur,0,255,cv2.THRESH_BINARY+cv2.THRESH_OTSU)\n",
    "\n",
    "    ##################      Now finding Contours         ###################\n",
    "\n",
    "    contours,hierarchy = cv2.findContours(copy.copy(th),cv2.RETR_LIST,cv2.CHAIN_APPROX_SIMPLE)\n",
    "\n",
    "    pred_digits = []\n",
    "    x_coords = []\n",
    "    roi_images = []\n",
    "    buff = 3\n",
    "    for cnt in contours:\n",
    "        if cv2.contourArea(cnt)>40:\n",
    "            [x,y,w,h] = cv2.boundingRect(cnt)\n",
    "            if  h>30 and w>8:\n",
    "                cv2.rectangle(th,(x,y),(x+w,y+h),(0,0,255),1)\n",
    "                try:\n",
    "                    roi = th[y-buff:y+h+buff,x-buff:x+w+buff]            \n",
    "                except:\n",
    "                    roi = th[y:y+h,x:x+w]            \n",
    "                roi_images.append(roi)\n",
    "                x_coords.append(x)\n",
    "\n",
    "    sorted_roi_images = [image for (x_coord,image) in sorted(zip(x_coords,roi_images))]\n",
    "    for image in sorted_roi_images:\n",
    "        try:\n",
    "            pred_digit = predict_digits(image)\n",
    "            pred_digits.append(str(pred_digit))\n",
    "        except:\n",
    "            pass\n",
    "\n",
    "    text = ''.join(pred_digits)\n",
    "    return text\n",
    "\n",
    "image = Image.open(os.environ.get(\"DATA_DIR\")+'/output.png')\n",
    "# print extract_text(image,ratio=[0.027,0.062,0.8713,0.8854])\n",
    "print extract_text(image,ratio=[0.027,0.062,0.94,0.9541])"
   ]
  },
  {
   "cell_type": "code",
   "execution_count": 71,
   "metadata": {},
   "outputs": [
    {
     "ename": "IndexError",
     "evalue": "tuple index out of range",
     "output_type": "error",
     "traceback": [
      "\u001b[0;31m\u001b[0m",
      "\u001b[0;31mIndexError\u001b[0mTraceback (most recent call last)",
      "\u001b[0;32m<ipython-input-71-4372c3ffc5fc>\u001b[0m in \u001b[0;36m<module>\u001b[0;34m()\u001b[0m\n\u001b[1;32m      5\u001b[0m \u001b[0;34m\u001b[0m\u001b[0m\n\u001b[1;32m      6\u001b[0m \u001b[0mimage\u001b[0m \u001b[0;34m=\u001b[0m \u001b[0mnp\u001b[0m\u001b[0;34m.\u001b[0m\u001b[0masarray\u001b[0m\u001b[0;34m(\u001b[0m\u001b[0mimage\u001b[0m\u001b[0;34m)\u001b[0m\u001b[0;34m\u001b[0m\u001b[0m\n\u001b[0;32m----> 7\u001b[0;31m \u001b[0my1\u001b[0m \u001b[0;34m=\u001b[0m \u001b[0mint\u001b[0m\u001b[0;34m(\u001b[0m\u001b[0mimage\u001b[0m\u001b[0;34m.\u001b[0m\u001b[0mshape\u001b[0m\u001b[0;34m[\u001b[0m\u001b[0;36m0\u001b[0m\u001b[0;34m]\u001b[0m \u001b[0;34m*\u001b[0m \u001b[0mratio\u001b[0m\u001b[0;34m[\u001b[0m\u001b[0;36m0\u001b[0m\u001b[0;34m]\u001b[0m\u001b[0;34m)\u001b[0m\u001b[0;34m\u001b[0m\u001b[0m\n\u001b[0m\u001b[1;32m      8\u001b[0m \u001b[0my2\u001b[0m \u001b[0;34m=\u001b[0m \u001b[0mint\u001b[0m\u001b[0;34m(\u001b[0m\u001b[0mimage\u001b[0m\u001b[0;34m.\u001b[0m\u001b[0mshape\u001b[0m\u001b[0;34m[\u001b[0m\u001b[0;36m0\u001b[0m\u001b[0;34m]\u001b[0m \u001b[0;34m*\u001b[0m \u001b[0mratio\u001b[0m\u001b[0;34m[\u001b[0m\u001b[0;36m1\u001b[0m\u001b[0;34m]\u001b[0m\u001b[0;34m)\u001b[0m\u001b[0;34m\u001b[0m\u001b[0m\n\u001b[1;32m      9\u001b[0m \u001b[0mx1\u001b[0m \u001b[0;34m=\u001b[0m \u001b[0mint\u001b[0m\u001b[0;34m(\u001b[0m\u001b[0mimage\u001b[0m\u001b[0;34m.\u001b[0m\u001b[0mshape\u001b[0m\u001b[0;34m[\u001b[0m\u001b[0;36m1\u001b[0m\u001b[0;34m]\u001b[0m \u001b[0;34m*\u001b[0m \u001b[0mratio\u001b[0m\u001b[0;34m[\u001b[0m\u001b[0;36m2\u001b[0m\u001b[0;34m]\u001b[0m\u001b[0;34m)\u001b[0m\u001b[0;34m\u001b[0m\u001b[0m\n",
      "\u001b[0;31mIndexError\u001b[0m: tuple index out of range"
     ]
    }
   ],
   "source": [
    "# ratio = [0.027,0.062,0.8713,0.8854]\n",
    "#ratio = [0.028,0.062,0.94,0.9541]\n",
    "ratio = [0.697,0.744,0.468,0.534]\n",
    "image = np.asarray(image)\n",
    "y1 = int(image.shape[0] * ratio[0])\n",
    "y2 = int(image.shape[0] * ratio[1])\n",
    "x1 = int(image.shape[1] * ratio[2])\n",
    "x2 = int(image.shape[1] * ratio[3])\n",
    "# img = image[y1:y2, x1:x2]\n",
    "# img = cv2.cvtColor(img, cv2.COLOR_BGR2GRAY)\n",
    "# img = cv2.resize(img,(70,70), interpolation = cv2.INTER_CUBIC)\n",
    "# blur = cv2.GaussianBlur(img,(5,5),0)\n",
    "# ret,th = cv2.threshold(blur,0,255,cv2.THRESH_BINARY+cv2.THRESH_OTSU)\n",
    "\n",
    "basewidth = 1000\n",
    "wpercent = (basewidth / float(image.size[0]))\n",
    "hsize = int((float(image.size[1]) * float(wpercent)))\n",
    "image_resized = image.resize((basewidth, hsize), Image.ANTIALIAS)\n",
    "image = gaussian_filter(image, 0.4)\n",
    "\n",
    "seed = np.copy(image)\n",
    "seed[1:-1, 1:-1] = image.min()\n",
    "mask = image\n",
    "\n",
    "dilated = reconstruction(seed, mask, method='dilation')\n",
    "\n",
    "plt.imshow(img,'gray')\n",
    "plt.show()"
   ]
  },
  {
   "cell_type": "code",
   "execution_count": 76,
   "metadata": {},
   "outputs": [
    {
     "name": "stdout",
     "output_type": "stream",
     "text": [
      "(169, 18)\n",
      "1000 106\n",
      "1 contours\n"
     ]
    },
    {
     "data": {
      "image/png": "[encoded data removed]",
      "text/plain": [
       "<matplotlib.figure.Figure at 0x7f0952243fd0>"
      ]
     },
     "metadata": {},
     "output_type": "display_data"
    }
   ],
   "source": [
    "image = Image.open(os.environ.get(\"DATA_DIR\")+'/output.png')\n",
    "\n",
    "ratio =[0.034,0.0592,0.8525,0.9851]\n",
    "image = np.asarray(image)\n",
    "y1 = int(image.shape[0] * ratio[0])\n",
    "y2 = int(image.shape[0] * ratio[1])\n",
    "x1 = int(image.shape[1] * ratio[2])\n",
    "x2 = int(image.shape[1] * ratio[3])\n",
    "image = image[y1:y2, x1:x2]\n",
    "\n",
    "image = Image.fromarray(image)\n",
    "basewidth = 1000\n",
    "print image.size\n",
    "wpercent = (basewidth / float(image.size[0]))\n",
    "hsize = int(((float(image.size[1]) * float(wpercent))))\n",
    "image_resized = image.resize((basewidth, hsize), Image.ANTIALIAS)\n",
    "\n",
    "length = image_resized.size[0]\n",
    "width =  image_resized.size[1]\n",
    "print length, width\n",
    "\n",
    "x_coord_sel = range(1000/50*2)\n",
    "\n",
    "pred_digits = []\n",
    "x_coords = []\n",
    "roi_images = []\n",
    "buff = 3\n",
    "print len(contours), \"contours\"\n",
    "for cnt in contours:\n",
    "    if cv2.contourArea(cnt)>40:\n",
    "        [x,y,w,h] = cv2.boundingRect(cnt)\n",
    "        if  h>30:\n",
    "            cv2.rectangle(image,(x,y),(x+w,y+h),(0,0,255),1)\n",
    "            try:\n",
    "                roi = image[y-buff:y+h+buff,x-buff:x+w+buff]            \n",
    "            except:\n",
    "                roi = image[y:y+h,x:x+w]            \n",
    "            roi_images.append(roi)\n",
    "            x_coords.append(x)           \n",
    "\n",
    "plt.imshow(image_resized,'gray')\n",
    "plt.show()\n",
    "\n",
    "\n",
    "\n",
    "# sorted_roi_images = [image for (x_coord,image) in sorted(zip(x_coords,roi_images))]\n",
    "# print len(sorted_roi_images)\n",
    "# for image in sorted_roi_images:\n",
    "#     try:\n",
    "#         pred_digit = predict_digits(image)\n",
    "#         pred_digits.append(str(pred_digit))\n",
    "#     except:\n",
    "#         pass\n",
    "# print pred_digits\n",
    "# print cv2.boundingRect(cnt)\n",
    "# # plt.imshow(image,'gray')\n",
    "# # plt.show() "
   ]
  },
  {
   "cell_type": "code",
   "execution_count": 66,
   "metadata": {
    "scrolled": false
   },
   "outputs": [
    {
     "name": "stdout",
     "output_type": "stream",
     "text": [
      "Reading from video stream and saving it as numpy array...\n",
      "Calculate the times and frames to sample.\n",
      "Extracting tags and frames one by one reading through imageio video_reader\n",
      "num_kill 2 num_alive \n",
      "num_kill 2 num_alive \n",
      "num_kill 2 num_alive \n",
      "num_kill 2 num_alive \n",
      "num_kill 2 num_alive \n",
      "num_kill 2 num_alive \n",
      "num_kill 2 num_alive \n",
      "num_kill 2 num_alive \n",
      "num_kill 2 num_alive \n",
      "num_kill 2 num_alive \n",
      "num_kill 2 num_alive \n",
      "num_kill 2 num_alive \n",
      "num_kill 2 num_alive \n",
      "num_kill 2 num_alive \n",
      "num_kill 2 num_alive \n",
      "num_kill 2 num_alive \n",
      "num_kill 2 num_alive \n",
      "num_kill 2 num_alive \n",
      "num_kill 2 num_alive \n",
      "num_kill 2 num_alive \n",
      "num_kill 2 num_alive \n",
      "num_kill 2 num_alive \n",
      "num_kill 2 num_alive \n",
      "num_kill 2 num_alive \n",
      "num_kill 2 num_alive \n",
      "num_kill 2 num_alive \n",
      "num_kill 2 num_alive \n",
      "num_kill 2 num_alive \n",
      "[] [] []\n"
     ]
    },
    {
     "data": {
      "text/plain": [
       "([], [], [])"
      ]
     },
     "execution_count": 66,
     "metadata": {},
     "output_type": "execute_result"
    }
   ],
   "source": [
    "# Taking intersection over few previous frames\n",
    "import imageio\n",
    "import math\n",
    "imageio.plugins.ffmpeg.download()\n",
    "\n",
    "\n",
    "def index_images_from_stream(stream_url, delay, ocr_extraction=True):\n",
    "            \"\"\"\n",
    "            Sample images from a live stream at regular intervals.\n",
    "            :param stream_url: url where the stream is located\n",
    "            :param delay: millisecond delay between sampled images\n",
    "            :return: image_batch - NxCxHxW - (num images)x(dims of image) converted w/ image_to_caffe_format\n",
    "            \"\"\"\n",
    "            # Save images into temporary directory specific to this stream.\n",
    "            print \"Reading from video stream and saving it as numpy array...\"\n",
    "            video_reader = imageio.get_reader(stream_url)\n",
    "            video_info = video_reader.get_meta_data()\n",
    "            print \"Calculate the times and frames to sample.\"\n",
    "            delta = float(video_info['duration']) / video_info['nframes']\n",
    "            frame_times = []\n",
    "            seek_time = float(0)\n",
    "\n",
    "            while seek_time < video_info['duration']:\n",
    "                frame_times.append(seek_time)\n",
    "                seek_time+=(float(delay)/1000)\n",
    "\n",
    "            frame_indices = [int(math.floor(float(frame_time) / delta)) for frame_time in frame_times]\n",
    "\n",
    "            print \"Extracting tags and frames one by one reading through imageio video_reader\"\n",
    "            \n",
    "            ocr_response_frames = []\n",
    "            ocr_frame_times = []\n",
    "            num_kill_frames = []\n",
    "            num_alive_frames = []\n",
    "            \n",
    "            try:\n",
    "                for ind, frame in enumerate(video_reader):\n",
    "                    sampled_frame = []\n",
    "                    if ind in frame_indices:\n",
    "                        num_kill = extract_text(image,ratio=[0.027,0.062,0.8713,0.8854])\n",
    "                        num_alive = extract_text(image,ratio=[0.028,0.062,0.94,0.9541])\n",
    "                        print \"num_kill\", num_kill, \"num_alive\", num_alive\n",
    "                        if num_kill and num_alive:\n",
    "                            frame_time = frame_times[frame_indices.index(ind)]\n",
    "                            num_kill_frames.append(num_kill)\n",
    "                            num_alive_frames.append(num_alive)                            \n",
    "                            ocr_frame_times.append(frame_time)\n",
    "\n",
    "            except Exception as e:\n",
    "                print e\n",
    "                print \"There was an error reading a frame. Other frames available in sampled_frames.\"\n",
    "\n",
    "            print num_kill_frames, num_alive_frames, ocr_frame_times\n",
    "\n",
    "            return num_kill_frames, num_alive_frames, ocr_frame_times\n",
    "        \n",
    "stream_url = 'http://d1playscdntv-a.akamaihd.net/video/GvaagNrIs0F/processed/720H.mp4'\n",
    "index_images_from_stream(stream_url, 1000, ocr_extraction=True)"
   ]
  },
  {
   "cell_type": "code",
   "execution_count": 1,
   "metadata": {
    "collapsed": true
   },
   "outputs": [],
   "source": [
    "# Working over image for number of kills \n",
    "import numpy as np\n",
    "import matplotlib.pyplot as plt\n",
    "import pytesseract\n",
    "import imageio\n",
    "import os\n",
    "from PIL import Image\n",
    "\n",
    "from scipy.ndimage import gaussian_filter\n",
    "from skimage import data\n",
    "from skimage import img_as_float\n",
    "from skimage.morphology import reconstruction\n",
    "\n",
    "\n",
    "# Convert to float: Important for subtraction later which won't work with uint8\n",
    "\n",
    "\n",
    "def extract_text(image, ratio=[0.697,0.744,0.468,0.534]):\n",
    "    #ratio=[0.697,0.746,0.468,0.534]\n",
    "    image = np.asarray(image)\n",
    "    y1 = int(image.shape[0] * ratio[0])\n",
    "    y2 = int(image.shape[0] * ratio[1])\n",
    "    x1 = int(image.shape[1] * ratio[2])\n",
    "    x2 = int(image.shape[1] * ratio[3])\n",
    "    image = image[y1:y2, x1:x2]\n",
    "    image = Image.fromarray(image)\n",
    "\n",
    "    basewidth = 1000\n",
    "    wpercent = (basewidth / float(image.size[0]))\n",
    "    hsize = int((float(image.size[1]) * float(wpercent)))\n",
    "    image_resized = image.resize((basewidth, hsize), Image.ANTIALIAS)\n",
    "    image = gaussian_filter(image, 0.4)\n",
    "\n",
    "    seed = np.copy(image)\n",
    "    seed[1:-1, 1:-1] = image.min()\n",
    "    mask = image\n",
    "\n",
    "    dilated = reconstruction(seed, mask, method='dilation')\n",
    "\n",
    "    img_mid = image - dilated\n",
    "\n",
    "    img_sub_dilated = img_mid\n",
    "    image_1 = Image.fromarray(np.uint8(img_sub_dilated))\n",
    "    image_test = Image.fromarray(np.uint8(image))\n",
    "    text = pytesseract.image_to_string(image_1)\n",
    "    \n",
    "    return text\n",
    "   "
   ]
  },
  {
   "cell_type": "code",
   "execution_count": 2,
   "metadata": {
    "collapsed": true
   },
   "outputs": [],
   "source": [
    "import os\n",
    "import cv2\n",
    "import copy\n",
    "from PIL import Image\n",
    "from scipy.ndimage import gaussian_filter\n",
    "from skimage import data\n",
    "from skimage import img_as_float\n",
    "from skimage.morphology import reconstruction\n",
    "\n",
    "\n",
    "# Convert to float: Important for subtraction later which won't work with uint8\n",
    "\n",
    "\n",
    "def extract_text_otsu(image, ratio=[0.697,0.744,0.468,0.534]):\n",
    "    #ratio=[0.697,0.746,0.468,0.534]\n",
    "    image = np.asarray(image)\n",
    "    y1 = int(image.shape[0] * ratio[0])\n",
    "    y2 = int(image.shape[0] * ratio[1])\n",
    "    x1 = int(image.shape[1] * ratio[2])\n",
    "    x2 = int(image.shape[1] * ratio[3])\n",
    "    image = image[y1:y2, x1:x2]\n",
    "    image = cv2.cvtColor(image, cv2.COLOR_BGR2GRAY)\n",
    "    image = cv2.resize(image,(70,70), interpolation = cv2.INTER_CUBIC)\n",
    "    blur = cv2.GaussianBlur(image,(5,5),0)\n",
    "    ret,th = cv2.threshold(copy.copy(blur),0,255,cv2.THRESH_BINARY+cv2.THRESH_OTSU)\n",
    "\n",
    "    image = Image.fromarray(np.uint8(th))\n",
    "    text = pytesseract.image_to_string(image)\n",
    "    \n",
    "    return text\n",
    "   "
   ]
  },
  {
   "cell_type": "code",
   "execution_count": 19,
   "metadata": {
    "scrolled": true
   },
   "outputs": [
    {
     "name": "stdout",
     "output_type": "stream",
     "text": [
      "Reading from video stream and saving it as numpy array...\n",
      "Calculate the times and frames to sample.\n",
      "Extracting tags and frames one by one reading through imageio video_reader\n",
      "<class 'imageio.core.util.Image'>\n",
      "<class 'PIL.Image.Image'>\n",
      "<class 'imageio.core.util.Image'>\n",
      "<class 'PIL.Image.Image'>\n",
      "<class 'imageio.core.util.Image'>\n",
      "<class 'PIL.Image.Image'>\n",
      "<class 'imageio.core.util.Image'>\n",
      "<class 'PIL.Image.Image'>\n",
      "<class 'imageio.core.util.Image'>\n",
      "<class 'PIL.Image.Image'>\n",
      "<class 'imageio.core.util.Image'>\n",
      "<class 'PIL.Image.Image'>\n",
      "<class 'imageio.core.util.Image'>\n",
      "<class 'PIL.Image.Image'>\n",
      "<class 'imageio.core.util.Image'>\n",
      "<class 'PIL.Image.Image'>\n",
      "<class 'imageio.core.util.Image'>\n",
      "<class 'PIL.Image.Image'>\n",
      "<class 'imageio.core.util.Image'>\n",
      "<class 'PIL.Image.Image'>\n",
      "<class 'imageio.core.util.Image'>\n",
      "<class 'PIL.Image.Image'>\n",
      "<class 'imageio.core.util.Image'>\n",
      "<class 'PIL.Image.Image'>\n",
      "<class 'imageio.core.util.Image'>\n",
      "<class 'PIL.Image.Image'>\n",
      "<class 'imageio.core.util.Image'>\n",
      "<class 'PIL.Image.Image'>\n",
      "<class 'imageio.core.util.Image'>\n",
      "<class 'PIL.Image.Image'>\n",
      "<class 'imageio.core.util.Image'>\n",
      "<class 'PIL.Image.Image'>\n",
      "<class 'imageio.core.util.Image'>\n",
      "<class 'PIL.Image.Image'>\n",
      "<class 'imageio.core.util.Image'>\n",
      "<class 'PIL.Image.Image'>\n",
      "<class 'imageio.core.util.Image'>\n",
      "<class 'PIL.Image.Image'>\n",
      "<class 'imageio.core.util.Image'>\n",
      "<class 'PIL.Image.Image'>\n",
      "<class 'imageio.core.util.Image'>\n",
      "<class 'PIL.Image.Image'>\n",
      "<class 'imageio.core.util.Image'>\n",
      "<class 'PIL.Image.Image'>\n",
      "<class 'imageio.core.util.Image'>\n",
      "<class 'PIL.Image.Image'>\n",
      "<class 'imageio.core.util.Image'>\n",
      "<class 'PIL.Image.Image'>\n",
      "<class 'imageio.core.util.Image'>\n",
      "<class 'PIL.Image.Image'>\n",
      "<class 'imageio.core.util.Image'>\n",
      "<class 'PIL.Image.Image'>\n",
      "line\n",
      "vou kmea re-Im nven nv “tallshnl wumm- 6 < wen\n",
      "/build/buildd/opencv-2.4.8+dfsg1/modules/imgproc/src/color.cpp:3737: error: (-215) scn == 3 || scn == 4 in function cvtColor\n",
      "\n",
      "There was an error reading a frame. Other frames available in sampled_frames.\n",
      "[] []\n"
     ]
    },
    {
     "data": {
      "text/plain": [
       "([], [])"
      ]
     },
     "execution_count": 19,
     "metadata": {},
     "output_type": "execute_result"
    }
   ],
   "source": [
    "# Taking intersection over few previous frames\n",
    "import imageio\n",
    "import math\n",
    "import numpy as np\n",
    "from matplotlib import pyplot as plt\n",
    "imageio.plugins.ffmpeg.download()\n",
    "\n",
    "def index_images_from_stream(stream_url, delay, ocr_extraction=True):\n",
    "            \"\"\"\n",
    "            Sample images from a live stream at regular intervals.\n",
    "            :param stream_url: url where the stream is located\n",
    "            :param delay: millisecond delay between sampled images\n",
    "            :return: image_batch - NxCxHxW - (num images)x(dims of image) converted w/ image_to_caffe_format\n",
    "            \"\"\"\n",
    "            # Save images into temporary directory specific to this stream.\n",
    "            print \"Reading from video stream and saving it as numpy array...\"\n",
    "            video_reader = imageio.get_reader(stream_url)\n",
    "            video_info = video_reader.get_meta_data()\n",
    "            print \"Calculate the times and frames to sample.\"\n",
    "            delta = float(video_info['duration']) / video_info['nframes']\n",
    "            frame_times = []\n",
    "            seek_time = float(0)\n",
    "\n",
    "            while seek_time < video_info['duration']:\n",
    "                frame_times.append(seek_time)\n",
    "                seek_time+=(float(delay)/1000)\n",
    "\n",
    "            frame_indices = [int(math.floor(float(frame_time) / delta)) for frame_time in frame_times]\n",
    "\n",
    "            print \"Extracting tags and frames one by one reading through imageio video_reader\"\n",
    "            \n",
    "            \n",
    "            ocr_response_frames = []\n",
    "            ocr_frame_times = []\n",
    "            prev_frame_index = []\n",
    "            prev_frames = []\n",
    "            max_length = 5\n",
    "            try:\n",
    "                for ind, frame in enumerate(video_reader):\n",
    "                    sampled_frame = []                    \n",
    "                    if ind in frame_indices:                        \n",
    "                        frame_time = frame_times[frame_indices.index(ind)]\n",
    "                        print type(frame)\n",
    "                        if len(prev_frames) != max_length:\n",
    "                            prev_frames.append(frame)\n",
    "                        else:\n",
    "                            prev_frames = prev_frames[1:]+[frame]\n",
    "                        new_frame = copy.copy(frame)\n",
    "                        if frame_time == 25.0:\n",
    "                            for prev_frame in prev_frames[:max_length]:\n",
    "                                new_frame &=prev_frame                                \n",
    "#                             print \"number of kills\"\n",
    "#                             ratio = [0.697,0.744,0.468,0.534]\n",
    "#                             ratio = [0.028,0.062,0.94,0.9541]\\\n",
    "                            ratio = [0.6638,0.6986,0.3539,0.6484]                                    \n",
    "                            new_frame = np.asarray(new_frame)\n",
    "                            y1 = int(new_frame.shape[0] * ratio[0])\n",
    "                            y2 = int(new_frame.shape[0] * ratio[1])\n",
    "                            x1 = int(new_frame.shape[1] * ratio[2])\n",
    "                            x2 = int(new_frame.shape[1] * ratio[3])\n",
    "                            new_frame = new_frame[y1:y2, x1:x2]\n",
    "                            plt.imshow(new_frame)\n",
    "                            plt.show()\n",
    "                            break\n",
    "\n",
    "                        ocr_text = extract_text(new_frame,ratio=ratio)\n",
    "                        ocr_text_otsu = extract_text_otsu(new_frame,ratio=ratio)\n",
    "                        if ocr_text:\n",
    "                            ocr_response_frames.append(ocr_text)\n",
    "                            ocr_frame_times.append(frame_time)\n",
    "            except Exception as e:\n",
    "                print e\n",
    "                print \"There was an error reading a frame. Other frames available in sampled_frames.\"\n",
    "\n",
    "            print ocr_response_frames, ocr_frame_times\n",
    "\n",
    "            return ocr_response_frames, ocr_frame_times\n",
    "        \n",
    "stream_url = 'http://d1playscdntv-a.akamaihd.net/video/GvaagNrIs0F/processed/720H.mp4'\n",
    "index_images_from_stream(stream_url, 1000, ocr_extraction=True)"
   ]
  },
  {
   "cell_type": "code",
   "execution_count": null,
   "metadata": {
    "collapsed": true
   },
   "outputs": [],
   "source": [
    "# Taking intersection over few previous frames\n",
    "import imageio\n",
    "import math\n",
    "import numpy as np\n",
    "from matplotlib import pyplot as plt\n",
    "imageio.plugins.ffmpeg.download()\n",
    "\n",
    "def index_images_from_stream(stream_url, delay, ocr_extraction=True):\n",
    "            \"\"\"\n",
    "            Sample images from a live stream at regular intervals.\n",
    "            :param stream_url: url where the stream is located\n",
    "            :param delay: millisecond delay between sampled images\n",
    "            :return: image_batch - NxCxHxW - (num images)x(dims of image) converted w/ image_to_caffe_format\n",
    "            \"\"\"\n",
    "            # Save images into temporary directory specific to this stream.\n",
    "            print \"Reading from video stream and saving it as numpy array...\"\n",
    "            video_reader = imageio.get_reader(stream_url)\n",
    "            video_info = video_reader.get_meta_data()\n",
    "            print \"Calculate the times and frames to sample.\"\n",
    "            delta = float(video_info['duration']) / video_info['nframes']\n",
    "            frame_times = []\n",
    "            seek_time = float(0)\n",
    "\n",
    "            while seek_time < video_info['duration']:\n",
    "                frame_times.append(seek_time)\n",
    "                seek_time+=(float(delay)/1000)\n",
    "\n",
    "            frame_indices = [int(math.floor(float(frame_time) / delta)) for frame_time in frame_times]\n",
    "\n",
    "            print \"Extracting tags and frames one by one reading through imageio video_reader\"\n",
    "            \n",
    "            \n",
    "            ocr_response_frames = []\n",
    "            ocr_frame_times = []\n",
    "            prev_frame_index = []\n",
    "            prev_frames = []\n",
    "            max_length = 5\n",
    "            try:\n",
    "                for ind, frame in enumerate(video_reader):\n",
    "                    sampled_frame = []                    \n",
    "                    if ind in frame_indices:                        \n",
    "                        frame_time = frame_times[frame_indices.index(ind)]\n",
    "                        print type(frame)\n",
    "                        frame = np.asarray(frame)\n",
    "                        frame = Image.fromarray(frame)\n",
    "                        print type(frame)\n",
    "                        frame = frame.convert('L')\n",
    "                        frame = np.asarray(frame)\n",
    "                        if len(prev_frames) != max_length:\n",
    "                            prev_frames.append(frame)\n",
    "                        else:\n",
    "                            prev_frames = prev_frames[1:]+[frame]\n",
    "                        new_frame = copy.copy(frame)\n",
    "                        if frame_time == 25.0:\n",
    "                            for prev_frame in prev_frames[:max_length]:\n",
    "                                new_frame &=prev_frame                                \n",
    "#                             print \"number of kills\"\n",
    "#                             ratio = [0.697,0.744,0.468,0.534]\n",
    "#                             ratio = [0.028,0.062,0.94,0.9541]\n",
    "                            print \"line\"\n",
    "                            ratio = [0.6638,0.6986,0.3539,0.6484]                                    \n",
    "                            print extract_text(new_frame,ratio=ratio)\n",
    "                            print extract_text_otsu(new_frame,ratio=ratio)    \n",
    "                            new_frame = np.asarray(new_frame)\n",
    "                            y1 = int(new_frame.shape[0] * ratio[0])\n",
    "                            y2 = int(new_frame.shape[0] * ratio[1])\n",
    "                            x1 = int(new_frame.shape[1] * ratio[2])\n",
    "                            x2 = int(new_frame.shape[1] * ratio[3])\n",
    "                            new_frame = new_frame[y1:y2, x1:x2]\n",
    "                            plt.imshow(new_frame)\n",
    "                            plt.show()\n",
    "                            break\n",
    "#                         new_frame = frame - prev_frames[0]            \n",
    "# #                         print \"number of kills\"\n",
    "# #                         ratio = [0.697,0.744,0.468,0.534]\n",
    "# #                         ratio = [0.028,0.062,0.94,0.9541]\n",
    "#                         print \"line\"\n",
    "#                         ratio = [0.6638,0.6986,0.3539,0.6484]        \n",
    "#                         new_frame = np.asarray(new_frame)\n",
    "#                         y1 = int(new_frame.shape[0] * ratio[0])\n",
    "#                         y2 = int(new_frame.shape[0] * ratio[1])\n",
    "#                         x1 = int(new_frame.shape[1] * ratio[2])\n",
    "#                         x2 = int(new_frame.shape[1] * ratio[3])\n",
    "#                         new_frame = new_frame[y1:y2, x1:x2]\n",
    "#                         ocr_text = extract_text(new_frame,ratio=ratio)\n",
    "#                         ocr_text_otsu = extract_text_otsu(new_frame,ratio=ratio)\n",
    "#                         if ocr_text:\n",
    "#                             ocr_response_frames.append(ocr_text)\n",
    "#                             ocr_frame_times.append(frame_time)\n",
    "            except Exception as e:\n",
    "                print e\n",
    "                print \"There was an error reading a frame. Other frames available in sampled_frames.\"\n",
    "\n",
    "            print ocr_response_frames, ocr_frame_times\n",
    "\n",
    "            return ocr_response_frames, ocr_frame_times\n",
    "        \n",
    "stream_url = 'http://d1playscdntv-a.akamaihd.net/video/GvaagNrIs0F/processed/720H.mp4'\n",
    "index_images_from_stream(stream_url, 1000, ocr_extraction=True)"
   ]
  },
  {
   "cell_type": "code",
   "execution_count": 2,
   "metadata": {},
   "outputs": [
    {
     "data": {
      "image/png": "[encoded data removed]",
      "text/plain": [
       "<matplotlib.figure.Figure at 0x7fa34e114ed0>"
      ]
     },
     "metadata": {},
     "output_type": "display_data"
    }
   ],
   "source": [
    "import cv2\n",
    "import numpy as np\n",
    "import os\n",
    "%matplotlib inline\n",
    "import matplotlib.pyplot as plt\n",
    "cap = cv2.VideoCapture(os.environ.get(\"DATA_DIR\")+'/720H.mp4')\n",
    "ret, frame1 = cap.read()\n",
    "prvs = cv2.cvtColor(frame1,cv2.COLOR_BGR2GRAY)\n",
    "hsv = np.zeros_like(frame1)\n",
    "hsv[...,1] = 255\n",
    "i = 0\n",
    "while(1):\n",
    "    i+=1\n",
    "    ret, frame2 = cap.read()\n",
    "    next = cv2.cvtColor(frame2,cv2.COLOR_BGR2GRAY)\n",
    "    flow = cv2.calcOpticalFlowFarneback(prvs,next, 0.5, 3, 15, 3, 5, 1.2, 0)\n",
    "#         prev_gray,gray,0.5,1,3,15,3,5,1\n",
    "    mag, ang = cv2.cartToPolar(flow[...,0], flow[...,1])\n",
    "    mag_normalized = cv2.normalize(mag, None, 0, 255, cv2.NORM_MINMAX)\n",
    "    mag_normalized = mag_normalized.astype('uint8')\n",
    "#     hsv[...,0] = ang*180/np.pi/2\n",
    "#     hsv[...,2] = cv2.normalize(mag,None,0,255,cv2.NORM_MINMAX)\n",
    "#     bgr = cv2.cvtColor(hsv,cv2.COLOR_HSV2BGR)\n",
    "#     cv2.imshow('frame2',bgr)\n",
    "    imgplot = plt.imshow(mag_normalized)\n",
    "    break\n",
    "#     k = cv2.waitKey(30) & 0xff\n",
    "#     if k == 27:\n",
    "#         break\n",
    "#     elif k == ord('s'):\n",
    "#         cv2.imwrite('opticalfb.png',frame2)\n",
    "#         cv2.imwrite('opticalhsv.png',bgr)\n",
    "    prvs = next\n",
    "cap.release()\n",
    "cv2.destroyAllWindows()"
   ]
  },
  {
   "cell_type": "code",
   "execution_count": null,
   "metadata": {
    "collapsed": true
   },
   "outputs": [],
   "source": [
    "# Taking intersection over few previous frames\n",
    "import imageio\n",
    "import math\n",
    "import numpy as np\n",
    "from matplotlib import pyplot as plt\n",
    "imageio.plugins.ffmpeg.download()\n",
    "\n",
    "def index_images_from_stream(stream_url, delay, ocr_extraction=True):\n",
    "            \"\"\"\n",
    "            Sample images from a live stream at regular intervals.\n",
    "            :param stream_url: url where the stream is located\n",
    "            :param delay: millisecond delay between sampled images\n",
    "            :return: image_batch - NxCxHxW - (num images)x(dims of image) converted w/ image_to_caffe_format\n",
    "            \"\"\"\n",
    "            # Save images into temporary directory specific to this stream.\n",
    "            print \"Reading from video stream and saving it as numpy array...\"\n",
    "            video_reader = imageio.get_reader(stream_url)\n",
    "            video_info = video_reader.get_meta_data()\n",
    "            print \"Calculate the times and frames to sample.\"\n",
    "            delta = float(video_info['duration']) / video_info['nframes']\n",
    "            frame_times = []\n",
    "            seek_time = float(0)\n",
    "\n",
    "            while seek_time < video_info['duration']:\n",
    "                frame_times.append(seek_time)\n",
    "                seek_time+=(float(delay)/1000)\n",
    "\n",
    "            frame_indices = [int(math.floor(float(frame_time) / delta)) for frame_time in frame_times]\n",
    "\n",
    "            print \"Extracting tags and frames one by one reading through imageio video_reader\"\n",
    "            \n",
    "            \n",
    "            ocr_response_frames = []\n",
    "            ocr_frame_times = []\n",
    "            prev_frame_index = []\n",
    "            prev_frames = []\n",
    "            max_length = 5\n",
    "            try:\n",
    "                for ind, frame in enumerate(video_reader):\n",
    "                    sampled_frame = []                    \n",
    "                    if ind in frame_indices:                        \n",
    "                        frame_time = frame_times[frame_indices.index(ind)]\n",
    "                        print type(frame)\n",
    "                        frame = np.asarray(frame)\n",
    "                        frame = Image.fromarray(frame)\n",
    "                        print type(frame)\n",
    "                        frame = frame.convert('L')\n",
    "                        frame = np.asarray(frame)\n",
    "                        if len(prev_frames) != max_length:\n",
    "                            prev_frames.append(frame)\n",
    "                        else:\n",
    "                            prev_frames = prev_frames[1:]+[frame]\n",
    "                        new_frame = copy.copy(frame)\n",
    "                        if frame_time == 25.0:\n",
    "                            for prev_frame in prev_frames[:max_length]:\n",
    "                                new_frame &=prev_frame                                \n",
    "                            print \"line\"\n",
    "                            ratio = [0.6638,0.6986,0.3539,0.6484]                                    \n",
    "                            print extract_text(new_frame,ratio=ratio)\n",
    "                            print extract_text_otsu(new_frame,ratio=ratio)    \n",
    "                            new_frame = np.asarray(new_frame)\n",
    "                            y1 = int(new_frame.shape[0] * ratio[0])\n",
    "                            y2 = int(new_frame.shape[0] * ratio[1])\n",
    "                            x1 = int(new_frame.shape[1] * ratio[2])\n",
    "                            x2 = int(new_frame.shape[1] * ratio[3])\n",
    "                            new_frame = new_frame[y1:y2, x1:x2]\n",
    "                            plt.imshow(new_frame)\n",
    "                            plt.show()\n",
    "                            break\n",
    "            except Exception as e:\n",
    "                print e\n",
    "                print \"There was an error reading a frame. Other frames available in sampled_frames.\"\n",
    "\n",
    "            print ocr_response_frames, ocr_frame_times\n",
    "\n",
    "            return ocr_response_frames, ocr_frame_times\n",
    "        \n",
    "stream_url = 'http://d1playscdntv-a.akamaihd.net/video/GvaagNrIs0F/processed/720H.mp4'\n",
    "index_images_from_stream(stream_url, 1000, ocr_extraction=True)"
   ]
  },
  {
   "cell_type": "code",
   "execution_count": null,
   "metadata": {
    "collapsed": true
   },
   "outputs": [],
   "source": []
  }
 ],
 "metadata": {
  "kernelspec": {
   "display_name": "Python 2",
   "language": "python",
   "name": "python2"
  },
  "language_info": {
   "codemirror_mode": {
    "name": "ipython",
    "version": 2
   },
   "file_extension": ".py",
   "mimetype": "text/x-python",
   "name": "python",
   "nbconvert_exporter": "python",
   "pygments_lexer": "ipython2",
   "version": "2.7.6"
  }
 },
 "nbformat": 4,
 "nbformat_minor": 1
}
