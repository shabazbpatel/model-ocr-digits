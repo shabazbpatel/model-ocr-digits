{
 "cells": [
  {
   "cell_type": "code",
   "execution_count": 1,
   "metadata": {
    "collapsed": true
   },
   "outputs": [],
   "source": [
    "import os\n",
    "import numpy as np\n",
    "%matplotlib inline\n",
    "import matplotlib.pyplot as plt\n",
    "import matplotlib.image as mpimg\n",
    "import skimage\n",
    "import pytesseract\n",
    "import cv2\n",
    "from PIL import Image, ImageEnhance, ImageFilter"
   ]
  },
  {
   "cell_type": "code",
   "execution_count": 23,
   "metadata": {},
   "outputs": [
    {
     "data": {
      "image/png": "[encoded data removed]",
      "text/plain": [
       "<matplotlib.figure.Figure at 0x7fb64e649850>"
      ]
     },
     "metadata": {},
     "output_type": "display_data"
    }
   ],
   "source": [
    "## Load original image\n",
    "image_path = os.path.join(os.environ.get(\"DATA_DIR\"),'3.png')\n",
    "# read the image file in a numpy array\n",
    "img = mpimg.imread(image_path)\n",
    "imgplot = plt.imshow(img)\n"
   ]
  },
  {
   "cell_type": "code",
   "execution_count": 24,
   "metadata": {},
   "outputs": [
    {
     "name": "stdout",
     "output_type": "stream",
     "text": [
      "\n"
     ]
    },
    {
     "data": {
      "image/png": "[encoded data removed]",
      "text/plain": [
       "<matplotlib.figure.Figure at 0x7fb64e8888d0>"
      ]
     },
     "metadata": {},
     "output_type": "display_data"
    }
   ],
   "source": [
    "# Experiment 1\n",
    "im = Image.open(image_path) # the second one\n",
    "im = im.filter(ImageFilter.MedianFilter())\n",
    "enhancer = ImageEnhance.Contrast(im)\n",
    "im = enhancer.enhance(2)\n",
    "im = im.convert('1')\n",
    "im.save(os.environ.get(\"SHARED_OUTPUT_DIR\")+'temp1.png')\n",
    "text = pytesseract.image_to_string(Image.open(os.environ.get(\"SHARED_OUTPUT_DIR\")+'temp1.png'))\n",
    "print(text)\n",
    "temp_image_path = os.path.join(os.environ.get(\"SHARED_OUTPUT_DIR\")+'temp1.png')\n",
    "# read the image file in a numpy array\n",
    "img = mpimg.imread(temp_image_path)\n",
    "imgplot = plt.imshow(img)"
   ]
  },
  {
   "cell_type": "code",
   "execution_count": 25,
   "metadata": {},
   "outputs": [
    {
     "name": "stdout",
     "output_type": "stream",
     "text": [
      "(54, 38, 3)\n",
      "L.'J\n"
     ]
    },
    {
     "data": {
      "image/png": "[encoded data removed]",
      "text/plain": [
       "<matplotlib.figure.Figure at 0x7fb64e5a2310>"
      ]
     },
     "metadata": {},
     "output_type": "display_data"
    }
   ],
   "source": [
    "# Experiment 2\n",
    "def _thresh_words(img, white_thresh=230):\n",
    "    if img is None:\n",
    "        return\n",
    "    print img.shape\n",
    "    for i in range(img.shape[0]):\n",
    "        for j in range(img.shape[1]):\n",
    "            if all([elem >= white_thresh for elem in img[i][j]]):\n",
    "                img[i][j] = (255, 255, 255)\n",
    "            else:\n",
    "                img[i][j] = (0, 0, 0)\n",
    "    cv2.imwrite(os.environ.get(\"SHARED_OUTPUT_DIR\")+'ex2_1.png', img)\n",
    "\n",
    "def _exec_tesseract(temp_path):\n",
    "     cmd = 'env TESSDATA_PREFIX=./ tesseract -l joh %s %s > /dev/null' % (self._tmp_image_fname, self._tmp_txt_base)\n",
    "     os.system(cmd)\n",
    "    \n",
    "img = cv2.imread(image_path)\n",
    "image_threshold = _thresh_words(img)\n",
    "temp_image_path = os.path.join(os.environ.get(\"SHARED_OUTPUT_DIR\")+'ex2_1.png')\n",
    "# read the image file in a numpy array\n",
    "img1 = mpimg.imread(temp_image_path)\n",
    "plt.imshow(img1)\n",
    "text = pytesseract.image_to_string(Image.open(temp_image_path))\n",
    "print text"
   ]
  },
  {
   "cell_type": "code",
   "execution_count": 14,
   "metadata": {
    "collapsed": true
   },
   "outputs": [],
   "source": [
    "#http://stackoverflow.com/questions/18813300/finding-the-coordinates-of-maxima-in-an-image\n",
    "import os\n",
    "from PIL import *\n",
    "from PIL import Image\n",
    "\n",
    "im111 = Image.open(os.environ.get(\"DATA_DIR\")+'/3.png')"
   ]
  },
  {
   "cell_type": "code",
   "execution_count": 27,
   "metadata": {
    "collapsed": true
   },
   "outputs": [],
   "source": [
    "import numpy as np\n",
    "from skimage import io\n",
    "from skimage import img_as_float\n",
    "from scipy.ndimage import gaussian_filter\n",
    "from skimage.morphology import reconstruction\n",
    "import pytesseract"
   ]
  },
  {
   "cell_type": "code",
   "execution_count": 28,
   "metadata": {},
   "outputs": [
    {
     "name": "stdout",
     "output_type": "stream",
     "text": [
      "<class 'PIL.Image.Image'>\n",
      "\n"
     ]
    },
    {
     "data": {
      "image/png": "[encoded data removed]",
      "text/plain": [
       "<matplotlib.figure.Figure at 0x7fb6700d2690>"
      ]
     },
     "metadata": {},
     "output_type": "display_data"
    }
   ],
   "source": [
    "im = np.array(image * 255, dtype = np.uint8)\n",
    "a = np.asarray(im)\n",
    "img = Image.fromarray(a)\n",
    "\n",
    "img.show()\n",
    "\n",
    "print type(img)\n",
    "img.save(os.environ.get(\"SHARED_OUTPUT_DIR\")+'RegionalMaximaPIL.jpg')\n",
    "\n",
    "img1 = mpimg.imread(os.environ.get(\"SHARED_OUTPUT_DIR\")+'RegionalMaximaPIL.jpg')\n",
    "plt.imshow(img1)\n",
    "text = pytesseract.image_to_string(Image.open(os.environ.get(\"SHARED_OUTPUT_DIR\")+'RegionalMaximaPIL.jpg'))\n",
    "print text"
   ]
  },
  {
   "cell_type": "code",
   "execution_count": 53,
   "metadata": {
    "collapsed": true
   },
   "outputs": [],
   "source": [
    "# Working over image for number of kills \n",
    "import numpy as np\n",
    "import matplotlib.pyplot as plt\n",
    "from PIL import Image\n",
    "\n",
    "from scipy.ndimage import gaussian_filter\n",
    "from skimage import data\n",
    "from skimage import img_as_float\n",
    "from skimage.morphology import reconstruction\n",
    "\n",
    "# Convert to float: Important for subtraction later which won't work with uint8\n",
    "image = Image.open(os.environ.get(\"DATA_DIR\")+'/3.png')\n",
    "#image = Image.open(os.environ.get(\"DATA_DIR\")+'/hard.png')\n",
    "# image = Image.open(os.environ.get(\"DATA_DIR\")+'/1.png')\n",
    "basewidth = 100\n",
    "wpercent = (basewidth / float(image.size[0]))\n",
    "hsize = int((float(im111.size[1]) * float(wpercent)))\n",
    "image_resized = im111.resize((basewidth, hsize), Image.ANTIALIAS)\n",
    "image = gaussian_filter(image, 0.4)\n",
    "\n",
    "seed = np.copy(image)\n",
    "seed[1:-1, 1:-1] = image.min()\n",
    "mask = image\n",
    "\n",
    "dilated = reconstruction(seed, mask, method='dilation')\n"
   ]
  },
  {
   "cell_type": "code",
   "execution_count": 54,
   "metadata": {
    "scrolled": false
   },
   "outputs": [
    {
     "name": "stdout",
     "output_type": "stream",
     "text": [
      "\n"
     ]
    },
    {
     "data": {
      "image/png": "[encoded data removed]",
      "text/plain": [
       "<matplotlib.figure.Figure at 0x7fb62f2f8810>"
      ]
     },
     "metadata": {},
     "output_type": "display_data"
    }
   ],
   "source": [
    "fig, (ax0, ax1, ax2) = plt.subplots(nrows=1,\n",
    "                                    ncols=3,\n",
    "                                    figsize=(8, 2.5),\n",
    "                                    sharex=True,\n",
    "                                    sharey=True)\n",
    "\n",
    "ax0.imshow(image, cmap='gray')\n",
    "ax0.set_title('original image')\n",
    "ax0.axis('off')\n",
    "ax0.set_adjustable('box-forced')\n",
    "\n",
    "ax1.imshow(dilated, vmin=image.min(), vmax=image.max(), cmap='gray')\n",
    "ax1.set_title('dilated')\n",
    "ax1.axis('off')\n",
    "ax1.set_adjustable('box-forced')\n",
    "\n",
    "img_mid = image - dilated\n",
    "ax2.imshow(img_mid, cmap='gray')\n",
    "ax2.set_title('image - dilated')\n",
    "ax2.axis('off')\n",
    "ax2.set_adjustable('box-forced')\n",
    "\n",
    "fig.tight_layout()\n",
    "\n",
    "img_sub_dilated = img_mid\n",
    "image_1 = Image.fromarray(np.uint8(img_sub_dilated))\n",
    "text = pytesseract.image_to_string(image_1)\n",
    "print text"
   ]
  },
  {
   "cell_type": "code",
   "execution_count": 38,
   "metadata": {},
   "outputs": [],
   "source": [
    "import numpy\n",
    "from keras.datasets import mnist\n",
    "from keras.models import Sequential\n",
    "from keras.layers import Dense\n",
    "from keras.layers import Dropout\n",
    "from keras.layers import Flatten\n",
    "from keras.layers.convolutional import Conv2D\n",
    "from keras.layers.convolutional import MaxPooling2D\n",
    "from keras.utils import np_utils\n",
    "from keras import backend as K\n",
    "K.set_image_dim_ordering('th')"
   ]
  },
  {
   "cell_type": "code",
   "execution_count": 39,
   "metadata": {
    "collapsed": true
   },
   "outputs": [],
   "source": [
    "# fix random seed for reproducibility\n",
    "seed = 7\n",
    "numpy.random.seed(seed)"
   ]
  },
  {
   "cell_type": "code",
   "execution_count": 40,
   "metadata": {},
   "outputs": [
    {
     "name": "stdout",
     "output_type": "stream",
     "text": [
      "Downloading data from https://s3.amazonaws.com/img-datasets/mnist.npz\n"
     ]
    }
   ],
   "source": [
    "# load data\n",
    "(X_train, y_train), (X_test, y_test) = mnist.load_data()\n",
    "# reshape to be [samples][pixels][width][height]\n",
    "X_train = X_train.reshape(X_train.shape[0], 1, 28, 28).astype('float32')\n",
    "X_test = X_test.reshape(X_test.shape[0], 1, 28, 28).astype('float32')"
   ]
  },
  {
   "cell_type": "code",
   "execution_count": 41,
   "metadata": {
    "collapsed": true
   },
   "outputs": [],
   "source": [
    "# normalize inputs from 0-255 to 0-1\n",
    "X_train = X_train / 255\n",
    "X_test = X_test / 255\n",
    "# one hot encode outputs\n",
    "y_train = np_utils.to_categorical(y_train)\n",
    "y_test = np_utils.to_categorical(y_test)\n",
    "num_classes = y_test.shape[1]"
   ]
  },
  {
   "cell_type": "code",
   "execution_count": 42,
   "metadata": {},
   "outputs": [],
   "source": [
    "def baseline_model():\n",
    "    # create model\n",
    "    model = Sequential()\n",
    "    model.add(Conv2D(32, (5, 5), input_shape=(1, 28, 28), activation='relu'))\n",
    "    model.add(MaxPooling2D(pool_size=(2, 2)))\n",
    "    model.add(Dropout(0.2))\n",
    "    model.add(Flatten())\n",
    "    model.add(Dense(128, activation='relu'))\n",
    "    model.add(Dense(num_classes, activation='softmax'))\n",
    "    # Compile model\n",
    "    model.compile(loss='categorical_crossentropy', optimizer='adam', metrics=['accuracy'])\n",
    "    return model"
   ]
  },
  {
   "cell_type": "code",
   "execution_count": 43,
   "metadata": {},
   "outputs": [
    {
     "name": "stdout",
     "output_type": "stream",
     "text": [
      "Train on 60000 samples, validate on 10000 samples\n",
      "Epoch 1/10\n",
      "203s - loss: 0.2311 - acc: 0.9344 - val_loss: 0.0827 - val_acc: 0.9741\n",
      "Epoch 2/10\n",
      "203s - loss: 0.0738 - acc: 0.9779 - val_loss: 0.0466 - val_acc: 0.9839\n",
      "Epoch 3/10\n",
      "204s - loss: 0.0534 - acc: 0.9838 - val_loss: 0.0427 - val_acc: 0.9865\n",
      "Epoch 4/10\n",
      "203s - loss: 0.0403 - acc: 0.9878 - val_loss: 0.0405 - val_acc: 0.9866\n",
      "Epoch 5/10\n",
      "203s - loss: 0.0337 - acc: 0.9894 - val_loss: 0.0342 - val_acc: 0.9889\n",
      "Epoch 6/10\n",
      "204s - loss: 0.0274 - acc: 0.9916 - val_loss: 0.0305 - val_acc: 0.9902\n",
      "Epoch 7/10\n",
      "204s - loss: 0.0232 - acc: 0.9927 - val_loss: 0.0351 - val_acc: 0.9887\n",
      "Epoch 8/10\n",
      "203s - loss: 0.0201 - acc: 0.9937 - val_loss: 0.0328 - val_acc: 0.9886\n",
      "Epoch 9/10\n",
      "204s - loss: 0.0166 - acc: 0.9949 - val_loss: 0.0301 - val_acc: 0.9897\n",
      "Epoch 10/10\n",
      "203s - loss: 0.0141 - acc: 0.9959 - val_loss: 0.0304 - val_acc: 0.9901\n",
      "Baseline Error: 0.99%\n"
     ]
    }
   ],
   "source": [
    "# build the model\n",
    "model = baseline_model()\n",
    "# Fit the model\n",
    "model.fit(X_train, y_train, validation_data=(X_test, y_test), epochs=10, batch_size=200, verbose=2)\n",
    "# Final evaluation of the model\n",
    "scores = model.evaluate(X_test, y_test, verbose=0)\n",
    "print(\"Baseline Error: %.2f%%\" % (100-scores[1]*100))"
   ]
  },
  {
   "cell_type": "code",
   "execution_count": 52,
   "metadata": {},
   "outputs": [
    {
     "name": "stdout",
     "output_type": "stream",
     "text": [
      "<type 'numpy.ndarray'>\n",
      "(10000, 1, 28, 28)\n",
      "(1, 1, 28, 28)\n",
      "2\n"
     ]
    }
   ],
   "source": [
    "print type(X_test)\n",
    "print X_test.shape\n",
    "X_ex = X_test[1:2,:,:,:]\n",
    "print X_ex.shape\n",
    "\n",
    "predictions = model.predict(X_ex)\n",
    "print np.argmax(predictions[0])"
   ]
  },
  {
   "cell_type": "code",
   "execution_count": 80,
   "metadata": {
    "scrolled": true
   },
   "outputs": [
    {
     "data": {
      "image/png": "[encoded data removed]",
      "text/plain": [
       "<matplotlib.figure.Figure at 0x7fb60876d8d0>"
      ]
     },
     "metadata": {},
     "output_type": "display_data"
    }
   ],
   "source": [
    "import cv2\n",
    "import numpy as np\n",
    "from matplotlib import pyplot as plt\n",
    "from scipy.ndimage import gaussian_filter\n",
    "image_path = os.environ.get(\"DATA_DIR\")+'/3.png'\n",
    "img = cv2.imread(image_path,0)\n",
    "# global thresholding\n",
    "ret1,th1 = cv2.threshold(img,127,255,cv2.THRESH_BINARY)\n",
    "# Otsu's thresholding\n",
    "ret2,th2 = cv2.threshold(img,0,255,cv2.THRESH_BINARY+cv2.THRESH_OTSU)\n",
    "# Otsu's thresholding after Gaussian filtering\n",
    "blur = cv2.GaussianBlur(img,(5,5),0)\n",
    "ret3,th3 = cv2.threshold(blur,0,255,cv2.THRESH_BINARY+cv2.THRESH_OTSU)\n",
    "# plot all the images and their histograms\n",
    "images = [img, 0, th1,\n",
    "          img, 0, th2,\n",
    "          blur, 0, th3]\n",
    "titles = ['Original Noisy Image','Histogram','Global Thresholding (v=127)',\n",
    "          'Original Noisy Image','Histogram',\"Otsu's Thresholding\",\n",
    "          'Gaussian filtered Image','Histogram',\"Otsu's Thresholding\"]\n",
    "for i in xrange(3):\n",
    "    plt.subplot(3,3,i*3+1),plt.imshow(images[i*3],'gray')\n",
    "    plt.title(titles[i*3]), plt.xticks([]), plt.yticks([])\n",
    "    plt.subplot(3,3,i*3+2),plt.hist(images[i*3].ravel(),256)\n",
    "    plt.title(titles[i*3+1]), plt.xticks([]), plt.yticks([])\n",
    "    plt.subplot(3,3,i*3+3),plt.imshow(images[i*3+2],'gray')\n",
    "    plt.title(titles[i*3+2]), plt.xticks([]), plt.yticks([])\n",
    "plt.show()"
   ]
  },
  {
   "cell_type": "code",
   "execution_count": 81,
   "metadata": {},
   "outputs": [],
   "source": [
    "y = cv2.resize(th3,(28,28), interpolation = cv2.INTER_CUBIC)\n",
    "y = np.expand_dims(y, axis=0)\n",
    "y = np.expand_dims(y, axis=0)"
   ]
  },
  {
   "cell_type": "code",
   "execution_count": 82,
   "metadata": {},
   "outputs": [
    {
     "name": "stdout",
     "output_type": "stream",
     "text": [
      "3\n"
     ]
    }
   ],
   "source": [
    "test_example = th3\n",
    "predictions = model.predict(y)\n",
    "print np.argmax(predictions[0])"
   ]
  },
  {
   "cell_type": "code",
   "execution_count": 138,
   "metadata": {},
   "outputs": [
    {
     "data": {
      "image/png": "[encoded data removed]",
      "text/plain": [
       "<matplotlib.figure.Figure at 0x7fb607bb9c10>"
      ]
     },
     "metadata": {},
     "output_type": "display_data"
    }
   ],
   "source": [
    "import cv2\n",
    "import numpy as np\n",
    "from matplotlib import pyplot as plt\n",
    "from scipy.ndimage import gaussian_filter\n",
    "image_path = os.environ.get(\"DATA_DIR\")+'/63.png'\n",
    "img = cv2.imread(image_path,0)\n",
    "img = cv2.resize(img,(80,80), interpolation = cv2.INTER_CUBIC)\n",
    "# global thresholding\n",
    "ret1,th1 = cv2.threshold(img,127,255,cv2.THRESH_BINARY)\n",
    "# Otsu's thresholding\n",
    "ret2,th2 = cv2.threshold(img,0,255,cv2.THRESH_BINARY+cv2.THRESH_OTSU)\n",
    "# Otsu's thresholding after Gaussian filtering\n",
    "blur = cv2.GaussianBlur(img,(5,5),0)\n",
    "ret3,th3 = cv2.threshold(blur,0,255,cv2.THRESH_BINARY+cv2.THRESH_OTSU)\n",
    "# plot all the images and their histograms\n",
    "images = [img, 0, th1,\n",
    "          img, 0, th2,\n",
    "          blur, 0, th3]\n",
    "titles = ['Original Noisy Image','Histogram','Global Thresholding (v=127)',\n",
    "          'Original Noisy Image','Histogram',\"Otsu's Thresholding\",\n",
    "          'Gaussian filtered Image','Histogram',\"Otsu's Thresholding\"]\n",
    "for i in xrange(3):\n",
    "    plt.subplot(3,3,i*3+1),plt.imshow(images[i*3],'gray')\n",
    "    plt.title(titles[i*3]), plt.xticks([]), plt.yticks([])\n",
    "    plt.subplot(3,3,i*3+2),plt.hist(images[i*3].ravel(),256)\n",
    "    plt.title(titles[i*3+1]), plt.xticks([]), plt.yticks([])\n",
    "    plt.subplot(3,3,i*3+3),plt.imshow(images[i*3+2],'gray')\n",
    "    plt.title(titles[i*3+2]), plt.xticks([]), plt.yticks([])\n",
    "plt.show()"
   ]
  },
  {
   "cell_type": "code",
   "execution_count": 139,
   "metadata": {},
   "outputs": [
    {
     "name": "stdout",
     "output_type": "stream",
     "text": [
      "(80, 80)\n",
      "80 80\n",
      "(80, 45)\n",
      "(80, 40)\n"
     ]
    },
    {
     "data": {
      "image/png": "[encoded data removed]",
      "text/plain": [
       "<matplotlib.figure.Figure at 0x7fb60937f710>"
      ]
     },
     "metadata": {},
     "output_type": "display_data"
    },
    {
     "data": {
      "image/png": "[encoded data removed]",
      "text/plain": [
       "<matplotlib.figure.Figure at 0x7fb62f229490>"
      ]
     },
     "metadata": {},
     "output_type": "display_data"
    }
   ],
   "source": [
    "print th3.shape\n",
    "x, y = th3.shape[0],th3.shape[1]\n",
    "print x, y\n",
    "th3_left = th3[:,:x/2+5]\n",
    "print th3_left.shape\n",
    "th3_right = th3[:,x/2:]\n",
    "print th3_right.shape\n",
    "plt.imshow(th3_left,'gray')\n",
    "plt.show()\n",
    "y_left = cv2.resize(th3_left,(28,28), interpolation = cv2.INTER_CUBIC)\n",
    "y_left = np.expand_dims(y_left, axis=0)\n",
    "y_left = np.expand_dims(y_left, axis=0)\n",
    "\n",
    "plt.imshow(th3_right,'gray')\n",
    "plt.show()\n",
    "y_right = cv2.resize(th3_right,(28,28), interpolation = cv2.INTER_CUBIC)\n",
    "y_right = np.expand_dims(y_right, axis=0)\n",
    "y_right = np.expand_dims(y_right, axis=0)"
   ]
  },
  {
   "cell_type": "code",
   "execution_count": 140,
   "metadata": {},
   "outputs": [
    {
     "name": "stdout",
     "output_type": "stream",
     "text": [
      "6\n",
      "1.0\n"
     ]
    }
   ],
   "source": [
    "predictions = model.predict(y_left)\n",
    "print np.argmax(predictions[0])\n",
    "print np.max(predictions[0])"
   ]
  },
  {
   "cell_type": "code",
   "execution_count": 141,
   "metadata": {},
   "outputs": [
    {
     "name": "stdout",
     "output_type": "stream",
     "text": [
      "3\n",
      "1.0\n"
     ]
    }
   ],
   "source": [
    "predictions = model.predict(y_right)\n",
    "print np.argmax(predictions[0])\n",
    "print np.max(predictions[0])"
   ]
  },
  {
   "cell_type": "code",
   "execution_count": null,
   "metadata": {
    "collapsed": true
   },
   "outputs": [],
   "source": []
  }
 ],
 "metadata": {
  "kernelspec": {
   "display_name": "Python 2",
   "language": "python",
   "name": "python2"
  },
  "language_info": {
   "codemirror_mode": {
    "name": "ipython",
    "version": 2
   },
   "file_extension": ".py",
   "mimetype": "text/x-python",
   "name": "python",
   "nbconvert_exporter": "python",
   "pygments_lexer": "ipython2",
   "version": "2.7.6"
  }
 },
 "nbformat": 4,
 "nbformat_minor": 1
}
